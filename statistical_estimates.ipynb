{
 "cells": [
  {
   "cell_type": "code",
   "execution_count": 31,
   "metadata": {},
   "outputs": [
    {
     "data": {
      "text/plain": [
       "0.04490924181056721"
      ]
     },
     "execution_count": 31,
     "metadata": {},
     "output_type": "execute_result"
    }
   ],
   "source": [
    "# Assume that 𝑛=1600\n",
    "#  (typical sample size for opinion polls).Find maximum possible variance of 𝑥¯\n",
    "#  for all possible values of 𝑝\n",
    "# . (You have to find maximum of some quadratic function, use properties of parabolas.) Enter number as an ordinary fraction.\n",
    "\n",
    "n = 1600\n",
    "p = 0.5\n",
    "var = p*(1-p)/n\n",
    "var\n",
    "\n",
    "# Find maximum possible standard error of mean for (𝑥1,…,𝑥𝑛), i.e. standard deviation of 𝑥¯. Use the result of the previous question. Enter number as ordinary fraction.\n",
    "\n",
    "std = var**0.5\n",
    "std\n",
    "\n",
    "# Assume that 𝑥¯𝑜𝑏𝑠=0.3\n",
    "#  . In the video, the following formula was discussed for 95% confidence interval (applicable when number of elements in the sample is large and central limit theorem gives good approximation):\n",
    "\n",
    "# 𝐶𝐼=[𝑥¯𝑜𝑏𝑠−1.96×𝑠,𝑥¯𝑜𝑏𝑠+1.96×𝑠]\n",
    "# , \n",
    "\n",
    "# where 𝑠=SD(𝑥)𝑛√\n",
    "# .\n",
    "\n",
    "# Note that 𝑠\n",
    "#  is an estimate for standard error of mean (i.e. standard deviation of 𝑥¯\n",
    "# ), because sample standard deviation SD(𝑥)\n",
    "#  is an estimate for standard deviation of our initial variable 𝑋\n",
    "#  and standard deviation of mean 𝑥¯\n",
    "#  is 𝑛√\n",
    "#  times smaller. So let us put the result of Question 3 as 𝑠\n",
    "# . Enter the left endpoint of this confidence interval. Enter numeric value with 4 digits after the decimal point.\n",
    "\n",
    "ci = [0.3 - 1.96*std, 0.3 + 1.96*std]\n",
    "ci\n",
    "\n"
   ]
  },
  {
   "cell_type": "code",
   "execution_count": 37,
   "metadata": {},
   "outputs": [
    {
     "data": {
      "text/plain": [
       "0.022454620905283607"
      ]
     },
     "execution_count": 37,
     "metadata": {},
     "output_type": "execute_result"
    }
   ],
   "source": [
    "# Previously we used maximum possible variance of 𝑥¯ for all possible values of 𝑝# . It provides upper estimate for length of confidence interval. More accurate approach is to use sample variance instead (as it was discussed in videos), or, which is equivalent, to put 𝑥 as 𝑝 in the formula for variance of 𝑥¯. (In this case we use biased estimate for population variance but due to large number of observations it doesn't matter.) Repeat previous steps for p = 0.3 and find new value of s. Enter numeric value with 4 digits after the decimal point.\n",
    "n = 1600\n",
    "p = 0.3\n",
    "var = p*(1-p)/n\n",
    "std = var**0.5\n",
    "std\n",
    "\n",
    "# F​ind radius (half of length) of confidence interval. Use the result of Question 6. Enter numeric value with 3 digits after decimal point.\n",
    "\n",
    "ci = [0.3 - 1.96*std, 0.3 + 1.96*std]\n",
    "radius = (ci[1] - ci[0])/2\n",
    "radius\n",
    "\n",
    "\n"
   ]
  },
  {
   "cell_type": "code",
   "execution_count": 41,
   "metadata": {},
   "outputs": [
    {
     "data": {
      "text/plain": [
       "9.02"
      ]
     },
     "execution_count": 41,
     "metadata": {},
     "output_type": "execute_result"
    }
   ],
   "source": [
    "# A sample of size 100 is taken from Gaussian random variable. Assume that the sample average is 10 and its standard deviation is 5. Find the left endpoint of 95% confidence interval for population mean. Use the formula discussed in videos. Enter numeric value with 2 digits after the decimal point.\n",
    "\n",
    "n = 100\n",
    "x = 10\n",
    "std = 5\n",
    "\n",
    "ci = [x - 1.96*std/n**0.5, x + 1.96*std/n**0.5]\n",
    "ci[0]\n",
    "\n"
   ]
  },
  {
   "cell_type": "code",
   "execution_count": 42,
   "metadata": {},
   "outputs": [
    {
     "data": {
      "text/plain": [
       "3000.0"
      ]
     },
     "execution_count": 42,
     "metadata": {},
     "output_type": "execute_result"
    }
   ],
   "source": [
    "# A​ssume that you collected sample of size 30 and obtained confidence interval for the value you are interested in. The radius of confidence interval is 0.2. You want to collect more data to improve the precision of your estimate and obtain confidence interval with radius 0.02. How large sample do you need? Assume that standard deviation will not change. Enter number of elements as integer number.\n",
    "\n",
    "n = 30\n",
    "radius = 0.2\n",
    "new_radius = 0.02\n",
    "\n",
    "n*(radius/new_radius)**2"
   ]
  },
  {
   "cell_type": "code",
   "execution_count": 46,
   "metadata": {},
   "outputs": [
    {
     "data": {
      "text/plain": [
       "4.539505932105311"
      ]
     },
     "execution_count": 46,
     "metadata": {},
     "output_type": "execute_result"
    }
   ],
   "source": [
    "# Consider a sample (1,2,2,4,3,2,5). Find 99% confidence interval for corresponding population mean using normal approximation. Enter the right endpoint of the interval as numeric value with 3 digits after the decimal point.\n",
    "\n",
    "x = [1,2,2,4,3,2,5]\n",
    "n = len(x)\n",
    "x_bar = sum(x)/n\n",
    "std = (sum([(i - x_bar)**2 for i in x])/(n-1))**0.5\n",
    "\n",
    "ci = [x_bar - 2.576*std/n**0.5, x_bar + 2.576*std/n**0.5]\n",
    "ci[1]\n",
    "\n",
    "# F​or the same sample, find 99% confidence interval using t-distribution instead of normal distribution. (Thus we take into account that number of samples is rather small and normal approximation may be incorrect and produce too small confidence intervals.) Enter the right endpoint of this interval with 3 digits after the decimal point.\n",
    "\n",
    "ci = [x_bar - 3.499*std/n**0.5, x_bar + 3.499*std/n**0.5]\n",
    "ci[1]"
   ]
  },
  {
   "cell_type": "code",
   "execution_count": null,
   "metadata": {},
   "outputs": [],
   "source": [
    "# There is a connection between confidence intervals and hypothesis testing. Assume that we have an i.i.d. sample 𝑥=(𝑥1,…,𝑥𝑛)\n",
    "#  from some random variable 𝑋\n",
    "#  with finite variance. Consider one-sample t-test with null hypothesis 𝔼𝑋=𝜇0\n",
    "#  and symmetric alternative. For simplicity, let us assume that 𝑛\n",
    "#  is large enough and replace 𝑇\n",
    "# -distribution with standard normal distribution. Assume that one found confidence interval 𝐼\n",
    "#  for 𝔼𝑋\n",
    "#  with confidence level 95%. Prove that standard decision-making procedure of t-test is equivalent to the following: reject null hypothesis if and only if 𝜇0\n",
    "#  does not belong to 𝐼\n",
    "# . Follow the plan: \n",
    "\n",
    "# 1. Assume that null hypothesis holds. We believe that 𝑡\n",
    "# -statistics in this case is distributed according to standard normal law (due to assumption that 𝑛\n",
    "#  is large). Recall that t-statistics for sample 𝑥\n",
    "#  is defined as 𝑡≈𝑥¯−𝜇0SD(𝑥)𝑛√.\n",
    "\n",
    "# 2. If 𝜇0\n",
    "#  does not lie in 𝐼\n",
    "# , either 𝜇0\n",
    "#  is larger than the right endpoint of 𝐼\n",
    "#  or 𝜇0\n",
    "#  is smaller than the left endpoint of 𝐼\n",
    "# . Let us consider the latter case. \n",
    "# 3. Consider event “𝜇0\n",
    "#  is smaller than the left endpoint of 𝐼\n",
    "# ”. Write this condition as an inequality using 𝜇0\n",
    "# ,  𝑥¯\n",
    "# , SD(𝑥)\n",
    "# , 𝑛\n",
    "#  and a constant 1.96\n",
    "# . (Recall that we assume that null hypothesis holds.)\n",
    "\n",
    "# 4. Transform this inequality such that it becomes (…)>1.96\n",
    "# . Does the left-hand part look similar to something?\n",
    "\n",
    "\n",
    "# 5. Recall why we use number 1.96\n",
    "# , how it is connected to standard normal distribution.\n",
    "\n",
    "# 6. Find probability that 𝜇0\n",
    "#  is smaller than the left endpoint of 𝐼\n",
    "#  provided that null hypothesis holds.\n",
    "\n",
    "# 7. Find probability that 𝜇0\n",
    "#  does not lie in 𝐼\n",
    "#  provided that null hypothesis holds.\n",
    "\n",
    "# 8​. Assume we are following rule \"reject null hypothesis if and only if 𝜇0\n",
    "#  does not belong to 𝐼\n",
    "# .\" Find probability that we falsely reject null hypothesis provided that it is true.\n",
    "\n",
    "# 9​. Explain in what cases (in terms of 𝑥¯\n",
    "# ) will we reject null hypothesis if we follow mentioned rule.\n",
    "\n",
    "# 1​0. Explain that this rule is equivalent to the rule used in ordinary two-sided one-sample t-test.\n",
    "\n",
    "\n"
   ]
  }
 ],
 "metadata": {
  "kernelspec": {
   "display_name": "base",
   "language": "python",
   "name": "python3"
  },
  "language_info": {
   "codemirror_mode": {
    "name": "ipython",
    "version": 3
   },
   "file_extension": ".py",
   "mimetype": "text/x-python",
   "name": "python",
   "nbconvert_exporter": "python",
   "pygments_lexer": "ipython3",
   "version": "3.9.12"
  },
  "orig_nbformat": 4
 },
 "nbformat": 4,
 "nbformat_minor": 2
}
