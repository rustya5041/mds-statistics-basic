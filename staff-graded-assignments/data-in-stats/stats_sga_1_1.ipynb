{
 "cells": [
  {
   "cell_type": "markdown",
   "metadata": {},
   "source": [
    "T​he following experiment is conducted. We randomly select tree in a forest, measure its height and record it as 𝑥1. Then we again select random tree in the same forest, independently on the first choice, measure its height and record it as 𝑥2, and so on.\n",
    "\n",
    "1​. Can we consider (𝑥1,…,𝑥𝑛) as an i.i.d. (independent and identically distributed) sample from some random variable? I.e. can we assume that these values are obtained as independent realizations of some random variable 𝑋?\n",
    "2​. Now we sort values (𝑥1,…,𝑥𝑛) in ascending order and thus obtain new sequence of numbers denoted by (𝑦1,…,𝑦𝑛). Can we say that (𝑦1,…,𝑦𝑛) is an i.i.d. sample from some random variable? \n",
    "\n",
    "Hint: it can be helpful to solve the following problem before answering question 2. Let 𝑋1 and 𝑋2be two independent Bernoulli random variables with 𝑝=1/2  (i.e. they take values 0 and 1 with equal probabilities.) Consider new random variables 𝑌1=min(𝑋1,𝑋2) and 𝑌2=max(𝑋1,𝑋2). Is it true that they 𝑌1 and 𝑌2 are independent random variables? Use definition of independent random variables."
   ]
  },
  {
   "cell_type": "markdown",
   "metadata": {},
   "source": [
    "1.  Yes, one can consider $(x{_1}…,x{_n})$ as an i.i.d. sample from some random variable $X$. Let us prove it using the definition of the arbitrary i.i.d sample. Firstly,  each tree is selected randomly and independently, meaning that the selection of the next tree is not influenced in any way by the previous tree. Hence, the measurements are independent by definition. Secondly, one can assume that the heights of the trees sample follow the same distribution from the population. Hence, using the law of large numbers, one can assume that the measurements are identically distributed when the sample size is big enough. $\\blacksquare$\n",
    "\n",
    "2. No, such sample is not i.i.d. by definition. Sorting any sample would mean that there's a clear dependency. If we have sorted the heights and obtained the sample $(y{_1}, ... y{_n})$ in the accending order, there's a dependency such that for each $i$ it follows that $y{_i} < y{_{i+1}}$. Likewise, the distribtuion of the sample will not be the same as the distribution of the population. Let us now prove that these events are not independent using the Bernoulli random variables. From the experiment description it follows that if:  \n",
    "$x{_1}=0,  x{_2}=0 \\implies y{_1}=0, y{_2}=0$  \n",
    "$x{_1}=0,  x{_2}=1 \\implies y{_1}=0, y{_2}=1$  \n",
    "$x{_1}=1,  x{_2}=0 \\implies y{_1}=0, y{_2}=1$  \n",
    "$x{_1}=1,  x{_2}=1 \\implies y{_1}=1, y{_2}=1$  \n",
    "$\\implies$ there's a clear dependence of outcome based on the prior (obtained) information  \n",
    "$\\therefore$ this sample is not i.i.d. $\\blacksquare$ \n",
    "\n"
   ]
  }
 ],
 "metadata": {
  "kernelspec": {
   "display_name": "Python 3 (ipykernel)",
   "language": "python",
   "name": "python3"
  },
  "language_info": {
   "codemirror_mode": {
    "name": "ipython",
    "version": 3
   },
   "file_extension": ".py",
   "mimetype": "text/x-python",
   "name": "python",
   "nbconvert_exporter": "python",
   "pygments_lexer": "ipython3",
   "version": "3.9.12"
  }
 },
 "nbformat": 4,
 "nbformat_minor": 2
}
