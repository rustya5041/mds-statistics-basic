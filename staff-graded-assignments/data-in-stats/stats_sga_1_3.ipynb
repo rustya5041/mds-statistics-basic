{
 "cells": [
  {
   "cell_type": "markdown",
   "metadata": {},
   "source": [
    "C​onsider arbitrary sample $x=(x{_1},…,x{_n})$. Let us find such value $a$ that $\\sum^n_{i=1}(x{_i}−𝑎)^2$ is minimized. Prove that 𝑎 is sample average $\\bar{x}$ of $x$.\n",
    "\n"
   ]
  },
  {
   "cell_type": "markdown",
   "metadata": {},
   "source": [
    "Proof:\n",
    "$$\\frac{\\partial}{\\partial a} \\sum^n_{i=1}(x{_i}−𝑎)^2 = \\sum^n_{i=1} 2(x_i - a) \\cdot (-1) = -2 \\sum^n_{i=1} (x_i - a) = 0$$\n",
    "\n",
    "Simplifying, we obtain\n",
    "$$\\sum^n_{i=1} (x_i - a) = 0$$\n",
    "$$\\sum^n_{i=1} x_i - \\sum^n_{i=1} a = 0$$\n",
    "$$\\sum^n_{i=1} x_i - n \\cdot a = 0$$\n",
    "$$\\sum^n_{i=1} x_i = n \\cdot a$$\n",
    "$$a = \\frac{\\sum^n_{i=1} x_i}{n}$$\n",
    "$$a = \\bar{x} $$\n",
    "$$\\blacksquare$$\n"
   ]
  }
 ],
 "metadata": {
  "kernelspec": {
   "display_name": "Python 3 (ipykernel)",
   "language": "python",
   "name": "python3"
  },
  "language_info": {
   "codemirror_mode": {
    "name": "ipython",
    "version": 3
   },
   "file_extension": ".py",
   "mimetype": "text/x-python",
   "name": "python",
   "nbconvert_exporter": "python",
   "pygments_lexer": "ipython3",
   "version": "3.9.12"
  }
 },
 "nbformat": 4,
 "nbformat_minor": 2
}
