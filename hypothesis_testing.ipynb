{
 "cells": [
  {
   "cell_type": "code",
   "execution_count": 1,
   "metadata": {},
   "outputs": [],
   "source": [
    "import scipy.stats as stats\n",
    "import numpy as np"
   ]
  },
  {
   "cell_type": "code",
   "execution_count": 2,
   "metadata": {},
   "outputs": [
    {
     "data": {
      "text/plain": [
       "0.03215020576131686"
      ]
     },
     "execution_count": 2,
     "metadata": {},
     "output_type": "execute_result"
    }
   ],
   "source": [
    "# find probability to guess the value of the dice 3 times out of 5\n",
    "p = 1/6\n",
    "n = 5\n",
    "k = 3\n",
    "stats.binom.pmf(k, n, p)\n"
   ]
  },
  {
   "cell_type": "code",
   "execution_count": 3,
   "metadata": {},
   "outputs": [
    {
     "data": {
      "text/plain": [
       "0.035493827160493874"
      ]
     },
     "execution_count": 3,
     "metadata": {},
     "output_type": "execute_result"
    }
   ],
   "source": [
    "1 - stats.binom.cdf(2, 5, 1/6)"
   ]
  },
  {
   "cell_type": "code",
   "execution_count": 4,
   "metadata": {},
   "outputs": [
    {
     "data": {
      "text/plain": [
       "0.014648437499999998"
      ]
     },
     "execution_count": 4,
     "metadata": {},
     "output_type": "execute_result"
    }
   ],
   "source": [
    "# Two students, Alice and Bob, sit at the same table. A teacher suspects that they communicate with each other during tests. The test consists of several multiple choice questions with single correct answer. If Alice don't know correct answer, she selects it randomly with equal probabilities. If Bob don't know correct answer and they communicate, he copies answer of Alice if he can. However, sometimes he cannot copy the answer: in this case, he chooses it randomly. If they do not communicate, he chooses answer randomly. (Student cannot believe he or she knows correct answer when it is not true.) Null hypothesis is that they do not cheat and act independently. There are 5 problems in the test for which correct answers are unknown to both students (and the teacher knows it), each problems has four possible answers. \n",
    "p = 1/4\n",
    "n = 5\n",
    "\n",
    "# A​ssume that 4 answers coincide. Find p-value. Enter ordinary fraction.\n",
    "k = 4\n",
    "stats.binom.pmf(k, n, p)\n",
    "\n",
    "\n",
    "\n",
    "\n"
   ]
  },
  {
   "cell_type": "code",
   "execution_count": 5,
   "metadata": {},
   "outputs": [
    {
     "data": {
      "text/plain": [
       "0.1457091502359843"
      ]
     },
     "execution_count": 5,
     "metadata": {},
     "output_type": "execute_result"
    }
   ],
   "source": [
    "# cdf for 0,1,2,3 matches\n",
    "cdf = stats.binom.cdf(3, 5, 1/4)\n",
    "1 - cdf ** 10"
   ]
  },
  {
   "cell_type": "code",
   "execution_count": 18,
   "metadata": {},
   "outputs": [
    {
     "name": "stdout",
     "output_type": "stream",
     "text": [
      "Min guessess to win: 9.0\n",
      "Probability to win withougt magic: 0.0327\n",
      "Probability that at least one magician wins: 0.81\n",
      "Min guessess to obtain less than 5% probability: 11\n"
     ]
    }
   ],
   "source": [
    "# Consider a competetion for magicians. The point of the competition is to prove to the general audience that there is no such thing as magical abilities at all, so the organizers hope that nobody wins simply due to luck. The procedure of the competition is as follows. A fair coin is tossed 11 times and the magician tries to guess the results of this tossings. The organizers of the competetion test null hypothesis that claims that probability to guess is 1/2 against an alternative that this probability is larger than 1/2. If null hypothesis is rejected on 5% significance level, then the organizers will claim that the magician has magical abilities and pay him his winning money. How many times a magician should guess to win the competetion?\n",
    "print(f\"Min guessess to win: {stats.binom.ppf(0.95, 11, 0.5, loc=1)}\")\n",
    "\n",
    "\n",
    "# What is the probability for the magician to win the competition provided that he does not have magical abilities? Enter value with 4 digits after decimal point.\n",
    "print(f'Probability to win withougt magic: {round(1 - stats.binom.cdf(9, 11, 0.5, loc=1),4)}')\n",
    "\n",
    "# Assume that 50 magicians participate in the competition and try to prove that they have magical abilities. All magicians are tested independently. What is the probability that at least one magician wins (and therefore the organisers have to conclude that people with magical abilities exist). Enter answer with 2 digits after decimal point.\n",
    "print(f'Probability that at least one magician wins: {round(1 - stats.binom.cdf(9, 11, 0.5, loc=1) ** 50,2)}')\n",
    "\n",
    "# Assume that we want to make the probability in the previous question less than 5%. How many times should we demand for each magician to be guessed correctly to achieve this probability? Enter the minimum possible value.\n",
    "for i in range(9, 12):\n",
    "    if round(1 - stats.binom.cdf(i, 11, 0.5, loc=1) ** 50,2) < 0.05:\n",
    "        print(f\"Min guessess to obtain less than 5% probability: {i}\")\n",
    "        break"
   ]
  },
  {
   "cell_type": "code",
   "execution_count": 15,
   "metadata": {},
   "outputs": [
    {
     "name": "stdout",
     "output_type": "stream",
     "text": [
      "Max k: 2\n"
     ]
    }
   ],
   "source": [
    "# The magician claims he can predict future but at some days his vision of future is inversed, i.e. if the coin will land with head he would predict tail and vise versa. He cannot detect in advance wether today is an \"ordinary\" or \"inverse\" day. Therefore, he claims, very small number of guessed results is also an evidence in favor for his magical abilities. It means that now an alternative is not 𝑝>1/2 but 𝑝≠1/2# . Now we update our testing procedure to take it into account. Assume that we toss a coin 11 times (during the same day). Let us pick such value 𝑘 that if the magician guess 𝑘 times or less, or (11−𝑘)  times or more, we reject null hypothesis. For example, if 𝑘= , the magician has to guess exactly 11 times or exactly 0 times to prove his abilities. Find the largest value 𝑘  such that probability to reject null hypothesis provided that null hypothesis holds is less than the significance level 0.05.\n",
    "\n",
    "\n",
    "p = 1/2\n",
    "n = 11\n",
    "# find k\n",
    "for k in range(1, 12):\n",
    "    if stats.binom.cdf(k, n, p, loc=0) > 0.05 or stats.binom.sf(n-k, n, p, loc=0) > 0.05:\n",
    "        print(f\"Max k: {k-1}\")\n",
    "        break"
   ]
  },
  {
   "cell_type": "code",
   "execution_count": 29,
   "metadata": {},
   "outputs": [
    {
     "name": "stdout",
     "output_type": "stream",
     "text": [
      "p-value: 0.0059\n"
     ]
    }
   ],
   "source": [
    "# The coin is tossed 11 times (during the same day) and the magician correctly predicts 2 outcomes. He claims that this result confirms his abilities (and that it means that today is \"inverse\" day). Find the corresponding p-value (taking into account appropriate alternative hypothesis). Enter numeric value with 4 digits after decimal point.\n",
    "print(f'p-value: {round(stats.binom.cdf(2, 11, 0.5, loc=1),4)}')"
   ]
  },
  {
   "cell_type": "code",
   "execution_count": 25,
   "metadata": {},
   "outputs": [
    {
     "data": {
      "text/plain": [
       "0.026855468749999983"
      ]
     },
     "execution_count": 25,
     "metadata": {},
     "output_type": "execute_result"
    }
   ],
   "source": [
    "stats.binom.pmf(9, 11, 0.5)"
   ]
  },
  {
   "cell_type": "code",
   "execution_count": 32,
   "metadata": {},
   "outputs": [
    {
     "ename": "SyntaxError",
     "evalue": "cannot assign to operator (1759714695.py, line 3)",
     "output_type": "error",
     "traceback": [
      "\u001b[0;36m  Cell \u001b[0;32mIn [32], line 3\u001b[0;36m\u001b[0m\n\u001b[0;31m    p-value = 2 * min(cdf, 1-cdf)\u001b[0m\n\u001b[0m    ^\u001b[0m\n\u001b[0;31mSyntaxError\u001b[0m\u001b[0;31m:\u001b[0m cannot assign to operator\n"
     ]
    }
   ],
   "source": [
    "# Assume that we perform the following test. 𝑋 is binomially distributed random variable with probability of success 𝑝 and number of trials 𝑛 and 𝑋𝑜𝑏𝑠 is an observed value of this random variable. Null hypothesis is that 𝑝=1/2. H1 is that 𝑝!=1/2. Find the p-value of the alternative (two-sided test)\n"
   ]
  },
  {
   "cell_type": "code",
   "execution_count": 26,
   "metadata": {},
   "outputs": [
    {
     "data": {
      "text/markdown": [
       "# W4, hypothesis testing, part 2\n"
      ],
      "text/plain": [
       "<IPython.core.display.Markdown object>"
      ]
     },
     "metadata": {},
     "output_type": "display_data"
    }
   ],
   "source": [
    "%%markdown\n",
    "# W4, hypothesis testing, part 2"
   ]
  },
  {
   "cell_type": "code",
   "execution_count": 35,
   "metadata": {},
   "outputs": [
    {
     "name": "stdout",
     "output_type": "stream",
     "text": [
      "0.019970984035859396\n",
      "0.9800290159641406\n",
      "0.03994196807171883\n"
     ]
    }
   ],
   "source": [
    "# one sample t-test\n",
    "\n",
    "df = 4\n",
    "\n",
    "# Assume that you perform 1-sample t-test with alternative 𝜇>𝜇0 and obtain t-statistics equal to 3. Sample size is 5. Find p-value.\n",
    "t = 3\n",
    "print(1 - stats.t.cdf(t, df))\n",
    "\n",
    "# Assume that you perform 1-sample t-test with alternative 𝜇>𝜇0 and obtain t-statistics equal to -3. Sample size is 5. Find p-value. \n",
    "t = -3\n",
    "print(1 - stats.t.cdf(t, df))\n",
    "\n",
    "# Assume that you perform 1-sample t-test with alternative 𝜇≠𝜇0 and obtain t-statistics equal to −3. Find p-value.\n",
    "t = -3\n",
    "print(2 * (stats.t.cdf(t, df)))\n",
    "\n"
   ]
  },
  {
   "cell_type": "code",
   "execution_count": 36,
   "metadata": {},
   "outputs": [
    {
     "name": "stdout",
     "output_type": "stream",
     "text": [
      "t: 2.400108850942297, p: 0.039890766746082586\n"
     ]
    }
   ],
   "source": [
    "# corn\n",
    "sample = [165, 170, 175, 180, 185, 185, 190, 195, 200, 210]\n",
    "mu0 = 175\n",
    "\n",
    "t, p = stats.ttest_1samp(sample, mu0)\n",
    "print(f't: {t}, p: {p}')\n"
   ]
  },
  {
   "cell_type": "code",
   "execution_count": 37,
   "metadata": {},
   "outputs": [
    {
     "name": "stdout",
     "output_type": "stream",
     "text": [
      "t: 1.9, p-value: 0.06951310490361085\n"
     ]
    }
   ],
   "source": [
    "# Average teacher salary in the USA is $39250. (All numbers are artificial.) Researcher randomly choosed 25 teachers from California and found that their average salary is $1900 above the country average with standard sample deviation equal to 5000. Can we conclude that teachers in California has higher salary than average in USA? First of all, let us find p-value. Enter numeric value with 3 digits after decimal point.\n",
    "\n",
    "mu0 = 39250\n",
    "mu = 39250 + 1900\n",
    "n = 25\n",
    "s = 5000\n",
    "\n",
    "t = (mu - mu0) / (s / np.sqrt(n))\n",
    "\n",
    "\n",
    "print(f't: {t}, p-value: {2 * (1 - stats.t.cdf(t, n-1))}')"
   ]
  },
  {
   "cell_type": "code",
   "execution_count": 42,
   "metadata": {},
   "outputs": [
    {
     "name": "stdout",
     "output_type": "stream",
     "text": [
      "t: 2.3590712984783537, p: 0.0388708204739499\n",
      "t: -2.250000000000001, p: 0.9561774117483027\n"
     ]
    }
   ],
   "source": [
    "# Usually a farmer obtains 12 kg fruits per each tree. She is testing new experimental very expensive fertilizer and want to understand does it work or not. If trees produce more fruits with fertilizers, she will consider using it; otherwise (if it doesn't change productivity or decrease it) she will not use it. Five randomly selected trees with the new fertilizer produced 11 kg, 14 kg, 15 kg, 14 kg and 14 kg of fruits. Use t-test to find corresponding p-value. Enter numeric value with 3 digits after the decimal point.\n",
    "sample = [11, 14, 15, 14, 14]\n",
    "mu0 = 12\n",
    "t, p = stats.ttest_1samp(sample, mu0, alternative='greater')\n",
    "print(f't: {t}, p: {p}')\n",
    "\n",
    "# A​ssume that in the previous problem experimental group of trees (with new fertilizer) produced 8 kg, 12 kg, 10 kg, 12 kg and 9 kg. Find corresponding p-value. Enter numeric value with 3 digits after decimal point.\n",
    "sample = [8, 12, 10, 12, 9]\n",
    "t, p = stats.ttest_1samp(sample, mu0, alternative='greater')\n",
    "print(f't: {t}, p: {p}')\n"
   ]
  },
  {
   "cell_type": "code",
   "execution_count": 46,
   "metadata": {},
   "outputs": [
    {
     "data": {
      "text/plain": [
       "-1.8185396927681365"
      ]
     },
     "execution_count": 46,
     "metadata": {},
     "output_type": "execute_result"
    }
   ],
   "source": [
    "# two-sample t-test\n",
    "# Find the value of t-statistics in two-sample t-test for samples: (2, 4, 6, 1, 3, 1, 4) and (3, 6, 2, 5, 7, 7). Enter numeric value with 2 digits after the decimal point.\n",
    "sample1 = [2, 4, 6, 1, 3, 1, 4]\n",
    "sample2 = [3, 6, 2, 5, 7, 7]\n",
    "\n",
    "t = (np.mean(sample1) - np.mean(sample2)) / (np.var(sample1, ddof=1) / len(sample1) + np.var(sample2, ddof=1) / len(sample2)) ** 0.5\n",
    "t"
   ]
  },
  {
   "cell_type": "code",
   "execution_count": 54,
   "metadata": {},
   "outputs": [
    {
     "name": "stdout",
     "output_type": "stream",
     "text": [
      "t: -inf, p: 0.0\n"
     ]
    }
   ],
   "source": [
    "# A researcher compares two different fertilizers, A and B, that are aimed at increasing the number of fruits produced by some fruit tree. \n",
    "# She has 30 trees, 20 of which are fertilized by fertilizer A and all the remaining trees are fertilized by fertilizer B. \n",
    "# All other conditions in two groups of trees are the same. \n",
    "# She obtain the following results: the trees in the first group produced 50 fruits on average and trees in the second group produced 59.4 fruits on average. \n",
    "# Is it true that these data provide strong evidence that fertilizer B is more effective than fertilizer A with this data?\n",
    "\n",
    "# H0: mu1 = mu2\n",
    "# H1: mu1 < mu2\n",
    "\n",
    "# t = (x1 - x2) / (s1^2 / n1 + s2^2 / n2) ^ 0.5\n",
    "\n",
    "sample1 = [50] * 20\n",
    "sample2 = [59.4] * 10\n",
    "\n",
    "t, p = stats.ttest_ind(sample1, sample2, equal_var=False)\n",
    "print(f't: {t}, p: {p}')"
   ]
  },
  {
   "cell_type": "code",
   "execution_count": 85,
   "metadata": {},
   "outputs": [
    {
     "name": "stdout",
     "output_type": "stream",
     "text": [
      "f: 94.57492354740054, p: 1.7749847316002933e-10\n",
      "t: -9.72496393553213, p: 1.7749847316002882e-10\n"
     ]
    }
   ],
   "source": [
    "# Assume that in the previous problem we have the following results: in group A, the number of fruits produced by trees are the following: 47, 48, 51, 52, 52, 50, 47, 46, 52, 48, 49, 55, 52, 49, 52, 47, 50, 53, 48, 52, in group B they are the following: 60, 58, 61, 61, 54, 57, 59, 63, 60, 61. Let's apply t-test to answer the following question: which of two fertilizers is better? First of all, we have to decide which alternative to use. Let us denote the corresponding populations (random variables that are generated our data) by 𝑋𝐴 and 𝑋𝐵.\n",
    "\n",
    "sample1 = [47, 48, 51, 52, 52, 50, 47, 46, 52, 48, 49, 55, 52, 49, 52, 47, 50, 53, 48, 52]\n",
    "sample2 = [60, 58, 61, 61, 54, 57, 59, 63, 60, 61]\n",
    "\n",
    "# run f-test to check if variances are equal\n",
    "f, p = stats.f_oneway(sample1, sample2)\n",
    "print(f'f: {f}, p: {p}')\n",
    "\n",
    "# Use function ttest_ind to find p-value. Assume that variances can be different. Enter 9 digits after the decimal point.\n",
    "t, p = stats.ttest_ind(sample1, sample2, equal_var=True)\n",
    "print(f't: {t}, p: {p}')\n"
   ]
  },
  {
   "cell_type": "code",
   "execution_count": 70,
   "metadata": {},
   "outputs": [
    {
     "name": "stdout",
     "output_type": "stream",
     "text": [
      "t: -1.9595917942265415, p: 0.04285927483636696\n"
     ]
    }
   ],
   "source": [
    "sample1 = [28, 33, 29, 31, 31]\n",
    "sample2 = [31, 36, 32, 32, 33]\n",
    "\n",
    "# print(np.mean(sample1), np.mean(sample2))\n",
    "t, p = stats.ttest_ind(sample1, sample2, equal_var=False, alternative='less')\n",
    "print(f't: {t}, p: {p}')"
   ]
  },
  {
   "cell_type": "code",
   "execution_count": 223,
   "metadata": {},
   "outputs": [
    {
     "name": "stdout",
     "output_type": "stream",
     "text": [
      "Values for which we reject H0: [9, 10]\n",
      "p_reject_null: 0.10404917949499559, p_not_reject_null: 0.8959508205050044\n",
      "\n",
      "p_reject_null: 0.24402523040771484\n"
     ]
    }
   ],
   "source": [
    "# Consider binomial test (like we discussed on the previous week). Let 𝑋\n",
    "#  be binomially distributed random variable with 𝑛\n",
    "#  trials and probability of succcess 𝑝\n",
    "# . Null hypothesis is 𝑝=1/2\n",
    "# , alternative is 𝑝>1/2\n",
    "# . We perform a test with significance level 5%. Let 𝑛=10\n",
    "# . For which values of 𝑋𝑜𝑏𝑠\n",
    "#  sampled from 𝑋\n",
    "#  would you reject null hypothesis? (In other words: how many times a magician have to guess the result of coin tossing correctly if we toss a coin 10 times?) Mark all appropriate values.\n",
    "\n",
    "n = 10\n",
    "p = 0.5\n",
    "alpha = 0.05\n",
    "x_sat = []\n",
    "\n",
    "for i in range(n+1):\n",
    "    if stats.binom_test(i, n, p, alternative='greater') < alpha:\n",
    "        x_sat.append(i)\n",
    "\n",
    "print(f\"Values for which we reject H0: {x_sat}\")\n",
    "\n",
    "# Assume that correct value of p equals to 2/3 (but you don't know it). What is the probability to reject null hypothesis using the criteria you stated in the previous question? Enter numeric value with two digits after the decimal point.\n",
    "p = 2/3\n",
    "alpha = 0.05\n",
    "n = 10\n",
    "x = stats.binom(n,p)\n",
    "\n",
    "for i in range(n+1):\n",
    "    if stats.binom_test(i, n, p, alternative='greater') < alpha:\n",
    "        x_sat.append(i)\n",
    "\n",
    "p_reject_null = 1 - x.cdf(8)\n",
    "\n",
    "# W​hat is the probability to not reject null hypothesis in this case? Enter numeric value with 2 digits after the decimal point.\n",
    "p_not_reject_null = 1 - p_reject_null\n",
    "\n",
    "print(f'p_reject_null: {p_reject_null}, p_not_reject_null: {p_not_reject_null}\\n')\n",
    "\n",
    "# What is the power of our test if 𝑝 equals to 3/4? Enter numeric value with 2 digits after the decimal point.\n",
    "p = 3/4\n",
    "x = stats.binom(n,p)\n",
    "\n",
    "\n",
    "p_reject_null = 1 - x.cdf(8)\n",
    "print(f'p_reject_null: {p_reject_null}')\n",
    "\n",
    "\n",
    "\n"
   ]
  },
  {
   "cell_type": "code",
   "execution_count": 230,
   "metadata": {},
   "outputs": [
    {
     "name": "stdout",
     "output_type": "stream",
     "text": [
      "Values for which we reject H0: [0, 1, 9, 10]\n",
      "p_reject_null: 0.10440481633897272\n",
      "p_reject_null: 0.24405479431152333\n"
     ]
    }
   ],
   "source": [
    "# Consider binomial test (like we discussed on the previous week). Let 𝑋\n",
    "#  be binomially distributed random variable with 𝑛\n",
    "#  trials and probability of succcess 𝑝\n",
    "# . Null hypothesis is 𝑝=1/2\n",
    "# , alternative is 𝑝≠1/2\n",
    "# . We perform a test with significance level 5%. Let 𝑛=10\n",
    "# . For which values of  sampled from 𝑋\n",
    "#  would you reject null hypothesis? (In other words: how many times a magician have to guess the result of coin tossing correctly if we toss a coin 10 times?) Mark all appropriate values\n",
    "\n",
    "n = 10\n",
    "p = 0.5\n",
    "alpha = 0.05\n",
    "x_sat = []\n",
    "\n",
    "for i in range(n+1):\n",
    "    if stats.binom_test(i, n, p, alternative='two-sided') < alpha:\n",
    "        x_sat.append(i)\n",
    "print(f\"Values for which we reject H0: {x_sat}\")\n",
    "\n",
    "# Assume that correct value of 𝑝equals to 2/3 (but you don't know it). What is the probability to reject null hypothesis using the criteria you stated in the previous question? Enter numeric value with 8 digits after the decimal point.\n",
    "\n",
    "p = 2/3\n",
    "X = stats.binom(n,p)\n",
    "\n",
    "p_reject_null = sum([X.pmf(i) for i in x_sat])\n",
    "print(f'p_reject_null: {p_reject_null}')\n",
    "\n",
    "p = 3/4\n",
    "X = stats.binom(n,p)\n",
    "\n",
    "p_reject_null = sum([X.pmf(i) for i in x_sat])\n",
    "print(f'p_reject_null: {p_reject_null}')"
   ]
  },
  {
   "cell_type": "code",
   "execution_count": 238,
   "metadata": {},
   "outputs": [
    {
     "name": "stdout",
     "output_type": "stream",
     "text": [
      "x_crit: 0.3678004522900572\n",
      "p: 0.2771884043107984\n",
      "p: 0.9976527540587823\n"
     ]
    }
   ],
   "source": [
    "# Assume that we want to perform one-sample t-test with null hypothesis 𝔼𝑋=0\n",
    "#  and an alternative 𝔼𝑋>0\n",
    "# . We have an i.i.d. sample 𝑥=(𝑥1,…,𝑥𝑛)\n",
    "#  from 𝑋\n",
    "# . Let 𝑛=100\n",
    "# . To simplify calculations, let us assume that we have large enough sample to reliably estimate variance of 𝑋\n",
    "#  from the data and apply central limit theorem. In other words, we will assume that sample mean 𝑥¯\n",
    "#  is distributed under normal law with expected value 𝔼𝑋\n",
    "#  and variance that is equal to Var+(𝑥)/𝑛\n",
    "# , where Var+(𝑥)\n",
    "#  is unbiased sample variance of 𝑥\n",
    "# . Assume that Var+(𝑥)=5\n",
    "# .\n",
    "\n",
    "# Find value 𝑥𝑐𝑟𝑖𝑡\n",
    "#  such that probability to observe 𝑥¯≥𝑥𝑐𝑟𝑖𝑡\n",
    "#  is equal to 0.05. (Use scipy.stats.norm.ppf.) Enter numeric value with 2 digits after the decimal point.\n",
    "\n",
    "n = 100\n",
    "var = 5\n",
    "alpha = 0.05\n",
    "x_crit = stats.norm.ppf(1-alpha, loc=0, scale=np.sqrt(var/n))\n",
    "print(f'x_crit: {x_crit}')\n",
    "\n",
    "# Assume that correct 𝔼𝑋=0.5\n",
    "# . Find probability to observe 𝑥¯<𝑥𝑐𝑟𝑖𝑡\n",
    "#  in this case. (Use 𝑥𝑐𝑟𝑖𝑡\n",
    "#  found previously. Take into account correct distribution of 𝑥¯\n",
    "# .) Enter numeric value with two digits after the decimal point.\n",
    "\n",
    "p = stats.norm.cdf(x_crit, loc=0.5, scale=np.sqrt(var/n))\n",
    "print(f'p: {p}')\n",
    "\n",
    "# Assume that correct 𝔼𝑋=1\n",
    "p = stats.norm.cdf(x_crit, loc=1, scale=np.sqrt(var/n))\n",
    "print(f'p: {1-p}')\n",
    "\n",
    "\n"
   ]
  },
  {
   "cell_type": "code",
   "execution_count": null,
   "metadata": {},
   "outputs": [],
   "source": []
  }
 ],
 "metadata": {
  "kernelspec": {
   "display_name": "base",
   "language": "python",
   "name": "python3"
  },
  "language_info": {
   "codemirror_mode": {
    "name": "ipython",
    "version": 3
   },
   "file_extension": ".py",
   "mimetype": "text/x-python",
   "name": "python",
   "nbconvert_exporter": "python",
   "pygments_lexer": "ipython3",
   "version": "3.9.12"
  },
  "orig_nbformat": 4
 },
 "nbformat": 4,
 "nbformat_minor": 2
}
